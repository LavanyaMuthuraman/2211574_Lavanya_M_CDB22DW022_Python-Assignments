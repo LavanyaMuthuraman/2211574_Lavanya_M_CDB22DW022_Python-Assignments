{
  "nbformat": 4,
  "nbformat_minor": 0,
  "metadata": {
    "colab": {
      "provenance": []
    },
    "kernelspec": {
      "name": "python3",
      "display_name": "Python 3"
    },
    "language_info": {
      "name": "python"
    }
  },
  "cells": [
    {
      "cell_type": "code",
      "execution_count": null,
      "metadata": {
        "colab": {
          "base_uri": "https://localhost:8080/"
        },
        "id": "yjPA7huDCQIy",
        "outputId": "79806212-8625-4f43-bd3c-d8bdac78fcde"
      },
      "outputs": [
        {
          "name": "stdout",
          "output_type": "stream",
          "text": [
            "enter the Lowest Range value: 10\n",
            "enter the Uppper Range value: 20\n"
          ]
        }
      ],
      "source": [
        "l_value = int(input(\"enter the Lowest Range value: \"))\n",
        "u_value = int(input(\"enter the Uppper Range value: \"))"
      ]
    },
    {
      "cell_type": "code",
      "source": [
        "for num in range(l_value,u_value + 1):\n",
        "  if num > 1:\n",
        "    for i in range(2,num):\n",
        "      if (num % i) == 0:\n",
        "        break\n",
        "    else:\n",
        "      print(num)\n"
      ],
      "metadata": {
        "colab": {
          "base_uri": "https://localhost:8080/"
        },
        "id": "MbY4S0udGvwE",
        "outputId": "161caea6-e62f-4619-a705-d67773a3d21e"
      },
      "execution_count": null,
      "outputs": [
        {
          "output_type": "stream",
          "name": "stdout",
          "text": [
            "11\n",
            "13\n",
            "17\n",
            "19\n"
          ]
        }
      ]
    }
  ]
}