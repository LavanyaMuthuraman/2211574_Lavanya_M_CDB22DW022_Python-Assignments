{
  "nbformat": 4,
  "nbformat_minor": 0,
  "metadata": {
    "colab": {
      "provenance": []
    },
    "kernelspec": {
      "name": "python3",
      "display_name": "Python 3"
    },
    "language_info": {
      "name": "python"
    }
  },
  "cells": [
    {
      "cell_type": "code",
      "execution_count": 1,
      "metadata": {
        "colab": {
          "base_uri": "https://localhost:8080/"
        },
        "id": "TqvAyJlXaCwa",
        "outputId": "4225f2e2-355a-4ea2-c30c-f2cf8a294211"
      },
      "outputs": [
        {
          "output_type": "stream",
          "name": "stdout",
          "text": [
            "Lav\n",
            "32820007\n",
            "934567\n"
          ]
        }
      ],
      "source": [
        "\n",
        "#parent_class\n",
        "class Person(object):\n",
        "    def __init__(self,name,Id_number):\n",
        "        self.name = name\n",
        "        self.Id_number = Id_number\n",
        "        \n",
        "    def display(self):\n",
        "        print(self.name)\n",
        "        print(self.Id_number)\n",
        "\n",
        "#child_class_one\n",
        "class Employee( Person ):            \n",
        "        def __init__(self, name, idnumber, salary): \n",
        "                self.salary = salary \n",
        "    \n",
        "                \n",
        "                Person.__init__(self, name, idnumber)  \n",
        "          \n",
        "        def show(self):\n",
        "            print(self.salary)\n",
        "    \n",
        "                    \n",
        "\n",
        "a = Employee('Lav', 32820007, 934567)     \n",
        "    \n",
        "\n",
        "a.display()\n",
        "a.show() \n",
        " "
      ]
    },
    {
      "cell_type": "code",
      "source": [
        "#child_class_two\n",
        "class Floor( Person ):            \n",
        "        def __init__(self, name, idnumber,booth,sweeper): \n",
        "                self.booth = booth\n",
        "                self.sweeper = sweeper\n",
        "    \n",
        "                \n",
        "                Person.__init__(self, name, idnumber)  \n",
        "          \n",
        "        def show(self):\n",
        "            print(self.booth)\n",
        "            print(self.sweeper)\n",
        "    \n",
        "                    \n",
        "\n",
        "a = Floor('Lav', 32820007 , 2 , 20)     \n",
        "    \n",
        "\n",
        "a.display()\n",
        "a.show() "
      ],
      "metadata": {
        "colab": {
          "base_uri": "https://localhost:8080/"
        },
        "id": "2UIz4JHkaYKw",
        "outputId": "dc8b7b42-d7dd-481d-b876-da6ad3fb0121"
      },
      "execution_count": 2,
      "outputs": [
        {
          "output_type": "stream",
          "name": "stdout",
          "text": [
            "Lav\n",
            "32820007\n",
            "2\n",
            "20\n"
          ]
        }
      ]
    },
    {
      "cell_type": "code",
      "source": [
        "#child_class_three\n",
        "class semester( Person ):            \n",
        "        def __init__(self, name, idnumber,marks,strengths): \n",
        "                self.marks = marks\n",
        "                self.strengths = strengths\n",
        "    \n",
        "                \n",
        "                Person.__init__(self, name, idnumber)  \n",
        "          \n",
        "        def show(self):\n",
        "            print(self.marks)\n",
        "            print(self.strengths)\n",
        "    \n",
        "                    \n",
        "\n",
        "a = semester('Lavanya', 32820007, 86,'Green_zone')     \n",
        "    \n",
        "\n",
        "a.display()\n",
        "a.show() "
      ],
      "metadata": {
        "colab": {
          "base_uri": "https://localhost:8080/"
        },
        "id": "BWRGhZZDacUn",
        "outputId": "1e5cb0a0-df2b-4b2a-cea6-1edc391f73f8"
      },
      "execution_count": 3,
      "outputs": [
        {
          "output_type": "stream",
          "name": "stdout",
          "text": [
            "Lavanya\n",
            "32820007\n",
            "86\n",
            "Green_zone\n"
          ]
        }
      ]
    }
  ]
}