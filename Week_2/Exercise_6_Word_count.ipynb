{
  "nbformat": 4,
  "nbformat_minor": 0,
  "metadata": {
    "colab": {
      "name": "string_count.ipynb",
      "provenance": []
    },
    "kernelspec": {
      "name": "python3",
      "display_name": "Python 3"
    },
    "language_info": {
      "name": "python"
    }
  },
  "cells": [
    {
      "cell_type": "code",
      "execution_count": null,
      "metadata": {
        "colab": {
          "base_uri": "https://localhost:8080/"
        },
        "id": "iMTlyvos4es7",
        "outputId": "11262573-da54-4fa9-c72d-b8a9f001cf09"
      },
      "outputs": [
        {
          "name": "stdout",
          "output_type": "stream",
          "text": [
            "Please enter any string: hello how are you? how are the potatoes?\n"
          ]
        }
      ],
      "source": [
        "mystr = input(\"Please enter any string: \")\n",
        "words = []"
      ]
    },
    {
      "cell_type": "code",
      "source": [
        "words = mystr.split()\n",
        "frequency = [words.count(i) for i in words]"
      ],
      "metadata": {
        "id": "Yq_CunrQ5S7q"
      },
      "execution_count": null,
      "outputs": []
    },
    {
      "cell_type": "code",
      "source": [
        "mydict = dict(zip(words,frequency))\n",
        "print(\"Dictionary Items : \", mydict) "
      ],
      "metadata": {
        "colab": {
          "base_uri": "https://localhost:8080/"
        },
        "id": "FyLHggzH5Oae",
        "outputId": "323d23a2-35f2-4c10-db3c-06dd2462e81f"
      },
      "execution_count": null,
      "outputs": [
        {
          "output_type": "stream",
          "name": "stdout",
          "text": [
            "Dictionary Items :  {'hello': 1, 'how': 2, 'are': 2, 'you?': 1, 'the': 1, 'potatoes?': 1}\n"
          ]
        }
      ]
    }
  ]
}