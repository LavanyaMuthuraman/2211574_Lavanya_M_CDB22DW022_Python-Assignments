{
 "cells": [
  {
   "cell_type": "markdown",
   "id": "56118ced",
   "metadata": {},
   "source": [
    "# Exercise"
   ]
  },
  {
   "cell_type": "code",
   "execution_count": 1,
   "id": "7261e577",
   "metadata": {},
   "outputs": [
    {
     "name": "stdout",
     "output_type": "stream",
     "text": [
      "Enter a number: 10\n",
      "Enter a number: 56\n",
      "Enter a number: 45\n",
      "Enter a number: 98\n",
      "Enter a number: 67\n",
      "The given data is sorted in Ascending Order : [10, 45, 56, 67, 98]\n",
      "The given data is sorted in Descending Order: [98, 67, 56, 45, 10]\n"
     ]
    }
   ],
   "source": [
    "num1 = []\n",
    "\n",
    "for i in range(0,5):\n",
    "  a = int(input(\"Enter a number: \"))\n",
    "  num1.append(a)\n",
    "\n",
    "for i in range(len(num1)):\n",
    "  for j in range(i+1, len(num1)):\n",
    "    if num1[i] > num1[j]:\n",
    "      num1[i],num1[j] = num1[j],num1[i]\n",
    "print('The given data is sorted in Ascending Order :',num1)\n",
    "\n",
    "num2 = num1.copy()\n",
    "\n",
    "for i in range(len(num2)):\n",
    "  for j in range(i+1, len(num2)):\n",
    "    if num2[i] < num2[j]:\n",
    "      num2[i],num2[j] = num2[j],num2[i]\n",
    "print('The given data is sorted in Descending Order:',num2)"
   ]
  },
  {
   "cell_type": "code",
   "execution_count": 2,
   "id": "f7682ccd",
   "metadata": {},
   "outputs": [
    {
     "name": "stdout",
     "output_type": "stream",
     "text": [
      "The prime numbers between 0 and 100 are:  2 3 5 7 11 13 17 19 23 29 31 37 41 43 47 53 59 61 67 71 73 79 83 89 97 "
     ]
    }
   ],
   "source": [
    "upp = 100\n",
    "low = 0\n",
    "\n",
    "print('The prime numbers between {} and {} are: '.format(low,upp), end=' ')\n",
    "for i in range(low, upp+1):\n",
    "  if i > 1:\n",
    "    for j in range(2, i):\n",
    "      if (i % j) == 0:\n",
    "        break\n",
    "    else:\n",
    "      print(i, end=\" \")"
   ]
  }
 ],
 "metadata": {
  "kernelspec": {
   "display_name": "Python 3",
   "language": "python",
   "name": "python3"
  },
  "language_info": {
   "codemirror_mode": {
    "name": "ipython",
    "version": 3
   },
   "file_extension": ".py",
   "mimetype": "text/x-python",
   "name": "python",
   "nbconvert_exporter": "python",
   "pygments_lexer": "ipython3",
   "version": "3.8.8"
  }
 },
 "nbformat": 4,
 "nbformat_minor": 5
}
